# Function to extract frames from a video
def extract_frames(video_path, output_dir):
    # Create output directory if it doesn't exist
    if not os.path.exists(output_dir):
        os.makedirs(output_dir)

    # Open the video file
    cap = cv2.VideoCapture(video_path)
    if not cap.isOpened():
        print("Error: Could not open video file")
        return

    # Get video properties
    fps = cap.get(cv2.CAP_PROP_FPS)
    total_frames = int(cap.get(cv2.CAP_PROP_FRAME_COUNT))
    duration = total_frames / fps

    # Loop through each frame and extract at every FPS
    frame_count = 0
    img_count = 0
    total_image = 0
    while True:
        ret, frame = cap.read()
        if not ret:
            break
        if img_count % 5 == 1:
            # Save frame as an image
            frame_name = f"frame_{frame_count:05d}.jpg"
            frame_path = os.path.join(output_dir, frame_name)
            cv2.imwrite(frame_path, frame)
            total_image += 1
        
        frame_count += 1
        img_count += 1

    # Release the video capture object
    cap.release()

    print(f"Frames extracted from video successfully to {output_dir}")
    print("Total Number of Images", total_image)

# Paths
video_path = "/home/mahin/Downloads/Sora/Real/Wolf_Puppy.mp4"
output_dir = "/home/mahin/Downloads/Sora/Real/Wolf Puppy222"

# Extract frames from the video
extract_frames(video_path, output_dir)



import cv2
import os

# Function to extract frames from a video
def extract_frames(video_path, output_dir, interval):
    # Create output directory if it doesn't exist
    if not os.path.exists(output_dir):
        os.makedirs(output_dir)

    # Open the video file
    cap = cv2.VideoCapture(video_path)
    if not cap.isOpened():
        print("Error: Could not open video file")
        return

    # Get video properties
    fps = cap.get(cv2.CAP_PROP_FPS)
    total_frames = int(cap.get(cv2.CAP_PROP_FRAME_COUNT))
    duration = total_frames / fps

    # Calculate frame interval based on desired interval in seconds
    frame_interval = int(1 / interval)
    print("Actual Interval", frame_interval)

    # Loop through each frame and extract at the specified interval
    frame_count = 0
    while True:
        ret, frame = cap.read()
        if not ret:
            break
        
        # Extract frame every frame_interval frames
        if frame_count % frame_interval == 0:
            # Save frame as an image
            frame_name = f"frame_{frame_count:05d}.jpg"
            frame_path = os.path.join(output_dir, frame_name)
            cv2.imwrite(frame_path, frame)
        
        frame_count += 1

    # Release the video capture object
    cap.release()

    print(f"Frames extracted from video successfully to {output_dir}")
    print("Total Number of Images", frame_count)

# Paths
video_path = "/home/mahin/Downloads/Sora/Real/Wolf Puppy.mp4"
output_dir = "/home/mahin/Downloads/Sora/Real/Wolf Puppy5"
interval=0.1

# Extract frames from the video
extract_frames(video_path, output_dir, interval)


import os
import cv2

# Load the video
video = cv2.VideoCapture('/home/mahin/Downloads/Sora/Real/Wolf Puppy.mp4')
output_dir = "/home/mahin/Downloads/Sora/Real/Wolf Puppy3"

# Check if video opened successfully
if not video.isOpened():
    print("Error: Could not open video.")
    exit()

# Get frames per second from the video file
fps = video.get(cv2.CAP_PROP_FPS)

# Calculate the interval between frames you want to capture
interval = int(fps * 0.01)

count = 0
success = True

while success:
    # Set video position
    video.set(cv2.CAP_PROP_POS_FRAMES, count)

    success, frame = video.read()
    if success:
        # Save frame as JPEG file
        frame_name = f"frame_{count:05d}.jpg"
        frame_path = os.path.join(output_dir, frame_name)
        cv2.imwrite(frame_path, frame)
        print("SAVED", count)
    count += interval

video.release()



import os
os.system('ffmpeg -i /home/mahin/Downloads/Sora/Real/Wolf_Puppy.mp4 -vf "fps=1" /home/frame_%05d.jpg')




