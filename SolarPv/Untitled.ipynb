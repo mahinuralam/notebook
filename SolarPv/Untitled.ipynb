{
 "cells": [
  {
   "cell_type": "code",
   "execution_count": 4,
   "id": "f89e61e9-eb3c-49de-85a1-3c177bccec32",
   "metadata": {},
   "outputs": [
    {
     "ename": "IndexError",
     "evalue": "index 537 is out of bounds for axis 1 with size 292",
     "output_type": "error",
     "traceback": [
      "\u001b[0;31m---------------------------------------------------------------------------\u001b[0m",
      "\u001b[0;31mIndexError\u001b[0m                                Traceback (most recent call last)",
      "Cell \u001b[0;32mIn[4], line 51\u001b[0m\n\u001b[1;32m     49\u001b[0m \u001b[38;5;66;03m# Convert labels to one-hot encoding\u001b[39;00m\n\u001b[1;32m     50\u001b[0m num_classes \u001b[38;5;241m=\u001b[39m \u001b[38;5;28mlen\u001b[39m(\u001b[38;5;28mset\u001b[39m(train_labels))  \u001b[38;5;66;03m# Update this if needed\u001b[39;00m\n\u001b[0;32m---> 51\u001b[0m train_labels \u001b[38;5;241m=\u001b[39m tf\u001b[38;5;241m.\u001b[39mkeras\u001b[38;5;241m.\u001b[39mutils\u001b[38;5;241m.\u001b[39mto_categorical(train_labels, num_classes)\n\u001b[1;32m     52\u001b[0m test_labels \u001b[38;5;241m=\u001b[39m tf\u001b[38;5;241m.\u001b[39mkeras\u001b[38;5;241m.\u001b[39mutils\u001b[38;5;241m.\u001b[39mto_categorical(test_labels, num_classes)\n\u001b[1;32m     53\u001b[0m val_labels \u001b[38;5;241m=\u001b[39m tf\u001b[38;5;241m.\u001b[39mkeras\u001b[38;5;241m.\u001b[39mutils\u001b[38;5;241m.\u001b[39mto_categorical(val_labels, num_classes)\n",
      "File \u001b[0;32m~/anaconda3/lib/python3.11/site-packages/keras/src/utils/numerical_utils.py:89\u001b[0m, in \u001b[0;36mto_categorical\u001b[0;34m(x, num_classes)\u001b[0m\n\u001b[1;32m     87\u001b[0m batch_size \u001b[38;5;241m=\u001b[39m x\u001b[38;5;241m.\u001b[39mshape[\u001b[38;5;241m0\u001b[39m]\n\u001b[1;32m     88\u001b[0m categorical \u001b[38;5;241m=\u001b[39m np\u001b[38;5;241m.\u001b[39mzeros((batch_size, num_classes))\n\u001b[0;32m---> 89\u001b[0m categorical[np\u001b[38;5;241m.\u001b[39marange(batch_size), x] \u001b[38;5;241m=\u001b[39m \u001b[38;5;241m1\u001b[39m\n\u001b[1;32m     90\u001b[0m output_shape \u001b[38;5;241m=\u001b[39m input_shape \u001b[38;5;241m+\u001b[39m (num_classes,)\n\u001b[1;32m     91\u001b[0m categorical \u001b[38;5;241m=\u001b[39m np\u001b[38;5;241m.\u001b[39mreshape(categorical, output_shape)\n",
      "\u001b[0;31mIndexError\u001b[0m: index 537 is out of bounds for axis 1 with size 292"
     ]
    }
   ],
   "source": [
    "\n",
    "import pandas as pd\n",
    "import numpy as np\n",
    "import cv2\n",
    "import os\n",
    "from sklearn.model_selection import train_test_split\n",
    "from tensorflow.keras.preprocessing.image import ImageDataGenerator\n",
    "import tensorflow as tf\n",
    "\n",
    "# Define the paths to the images and CSV files\n",
    "base_dir = '/home/mahin/Downloads/retinanet'\n",
    "train_csv_path = os.path.join(base_dir, 'train', '_annotations.csv')\n",
    "test_csv_path = os.path.join(base_dir, 'test', '_annotations.csv')\n",
    "val_csv_path = os.path.join(base_dir, 'valid', '_annotations.csv')\n",
    "\n",
    "# Function to read the dataset from CSV files\n",
    "def load_dataset(csv_path, images_dir):\n",
    "    df = pd.read_csv(csv_path)\n",
    "    images = []\n",
    "    labels = []\n",
    "\n",
    "    for _, row in df.iterrows():\n",
    "        # Get image file path\n",
    "        image_file = row.iloc[0]  # Filename is in the first column\n",
    "        image_path = os.path.join(images_dir, image_file)\n",
    "\n",
    "        # Read and preprocess the image\n",
    "        image = cv2.imread(image_path)\n",
    "        if image is not None:\n",
    "            image = cv2.cvtColor(image, cv2.COLOR_BGR2RGB)\n",
    "            image = cv2.resize(image, (224, 224))\n",
    "            image = image / 255.0  # Normalize\n",
    "            images.append(image)\n",
    "\n",
    "            # Get the class label\n",
    "            class_label = row.iloc[4]  # Class label is in the fifth column\n",
    "            labels.append(class_label)\n",
    "\n",
    "    # Convert lists to arrays\n",
    "    images = np.array(images)\n",
    "    labels = np.array(labels)\n",
    "\n",
    "    return np.array(images), np.array(labels)\n",
    "\n",
    "# Load the datasets\n",
    "train_images, train_labels = load_dataset(train_csv_path, os.path.join(base_dir, 'train'))\n",
    "test_images, test_labels = load_dataset(test_csv_path, os.path.join(base_dir, 'test'))\n",
    "val_images, val_labels = load_dataset(val_csv_path, os.path.join(base_dir, 'valid'))\n",
    "\n",
    "# Convert labels to one-hot encoding\n",
    "num_classes = len(set(train_labels))  # Update this if needed\n",
    "train_labels = tf.keras.utils.to_categorical(train_labels, num_classes)\n",
    "test_labels = tf.keras.utils.to_categorical(test_labels, num_classes)\n",
    "val_labels = tf.keras.utils.to_categorical(val_labels, num_classes)\n",
    "\n",
    "# Set up ImageDataGenerator for augmentation\n",
    "train_datagen = ImageDataGenerator(\n",
    "    rotation_range=20,\n",
    "    width_shift_range=0.2,\n",
    "    height_shift_range=0.2,\n",
    "    horizontal_flip=True,\n",
    "    fill_mode='nearest'\n",
    ")\n",
    "\n",
    "# ImageDataGenerators for the train, validation, and test sets\n",
    "train_generator = train_datagen.flow(train_images, train_labels, batch_size=32)\n",
    "validation_datagen = ImageDataGenerator()\n",
    "validation_generator = validation_datagen.flow(val_images, val_labels, batch_size=32)\n",
    "test_datagen = ImageDataGenerator()\n",
    "test_generator = test_datagen.flow(test_images, test_labels, batch_size=32)\n",
    "\n",
    "# Now, you can use these generators to train a model using VGG16 architecture or any other model.\n"
   ]
  },
  {
   "cell_type": "code",
   "execution_count": null,
   "id": "83911893-81ae-4149-a053-a92014ffb3f3",
   "metadata": {},
   "outputs": [],
   "source": []
  }
 ],
 "metadata": {
  "kernelspec": {
   "display_name": "Python 3 (ipykernel)",
   "language": "python",
   "name": "python3"
  },
  "language_info": {
   "codemirror_mode": {
    "name": "ipython",
    "version": 3
   },
   "file_extension": ".py",
   "mimetype": "text/x-python",
   "name": "python",
   "nbconvert_exporter": "python",
   "pygments_lexer": "ipython3",
   "version": "3.11.7"
  }
 },
 "nbformat": 4,
 "nbformat_minor": 5
}
